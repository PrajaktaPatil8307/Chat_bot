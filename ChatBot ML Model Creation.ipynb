{
 "cells": [
  {
   "cell_type": "markdown",
   "id": "bf0aee2f",
   "metadata": {},
   "source": [
    "## Importing All Required Lib"
   ]
  },
  {
   "cell_type": "code",
   "execution_count": null,
   "id": "24fafcda",
   "metadata": {},
   "outputs": [],
   "source": [
    "import pandas as pd\n",
    "from sklearn.feature_extraction.text import CountVectorizer\n",
    "from sklearn.naive_bayes import MultinomialNB\n",
    "from sklearn.metrics import accuracy_score\n",
    "from sklearn.model_selection import train_test_split\n",
    "import numpy as np \n",
    "import string\n",
    "from nltk.corpus import stopwords\n",
    "import pandas as pd \n",
    "from sklearn.feature_extraction.text import CountVectorizer\n",
    "from sklearn.tree import DecisionTreeClassifier\n",
    "from sklearn.feature_extraction.text import TfidfTransformer,TfidfVectorizer\n",
    "from sklearn.pipeline import Pipeline\n",
    "import joblib"
   ]
  },
  {
   "cell_type": "markdown",
   "id": "43dc9d58",
   "metadata": {},
   "source": [
    "## Import data from chat_data file"
   ]
  },
  {
   "cell_type": "code",
   "execution_count": null,
   "id": "68491efe",
   "metadata": {},
   "outputs": [],
   "source": [
    "df = pd.read_csv('chat_data.csv')\n",
    "df"
   ]
  },
  {
   "cell_type": "markdown",
   "id": "6060b62d",
   "metadata": {},
   "source": [
    "## Create list of Question and Answer coloum"
   ]
  },
  {
   "cell_type": "code",
   "execution_count": null,
   "id": "6e64dc80",
   "metadata": {},
   "outputs": [],
   "source": [
    "\n",
    "Question1 = df['Question'].to_list()\n",
    "Answer1 = df['Answer'].to_list()"
   ]
  },
  {
   "cell_type": "markdown",
   "id": "9decba2c",
   "metadata": {},
   "source": [
    "## Cleaning a dataset"
   ]
  },
  {
   "cell_type": "code",
   "execution_count": null,
   "id": "af383eaa",
   "metadata": {},
   "outputs": [],
   "source": [
    "Question2 = [i for i in Question1 if i != ' \\u200eimage omitted']\n",
    "Question3 = [i for i in Question2 if i != ' \\u200esticker omitted']\n",
    "\n",
    "Answer2 = [i for i in Answer1 if i != ' \\u200eimage omitted']\n",
    "Answer3 = [i for i in Answer2 if i != ' \\u200esticker omitted']"
   ]
  },
  {
   "cell_type": "code",
   "execution_count": null,
   "id": "d4927f5a",
   "metadata": {},
   "outputs": [],
   "source": [
    "Question4 = Question3[:21000]"
   ]
  },
  {
   "cell_type": "code",
   "execution_count": null,
   "id": "046cd07a",
   "metadata": {},
   "outputs": [],
   "source": [
    "Answer4 = Answer3[:21000]"
   ]
  },
  {
   "cell_type": "markdown",
   "id": "5fb52548",
   "metadata": {},
   "source": [
    "## Creating a dataframe"
   ]
  },
  {
   "cell_type": "code",
   "execution_count": null,
   "id": "43ea528c",
   "metadata": {},
   "outputs": [],
   "source": [
    "df2 = pd.DataFrame({'Question': Question4, 'Answer': Answer4})\n",
    "df2"
   ]
  },
  {
   "cell_type": "markdown",
   "id": "a315b0f7",
   "metadata": {},
   "source": [
    "## Vectorize the text using Bag-of-Words"
   ]
  },
  {
   "cell_type": "code",
   "execution_count": null,
   "id": "616f91ed",
   "metadata": {},
   "outputs": [],
   "source": [
    "\n",
    "vectorizer = CountVectorizer()\n",
    "X = vectorizer.fit_transform(df2['Question'])\n",
    "y = df2['Answer']"
   ]
  },
  {
   "cell_type": "markdown",
   "id": "7a074fea",
   "metadata": {},
   "source": [
    "## Splitting a dataset "
   ]
  },
  {
   "cell_type": "code",
   "execution_count": null,
   "id": "bfd97c7a",
   "metadata": {},
   "outputs": [],
   "source": [
    "X_train, X_test, y_train, y_test = train_test_split(X, y, test_size=0.2, random_state=42)"
   ]
  },
  {
   "cell_type": "markdown",
   "id": "10795967",
   "metadata": {},
   "source": [
    "## Train the Naive Bayes classifier"
   ]
  },
  {
   "cell_type": "code",
   "execution_count": null,
   "id": "344c0539",
   "metadata": {},
   "outputs": [],
   "source": [
    "\n",
    "classifier = MultinomialNB()\n",
    "classifier.fit(X_train, y_train)"
   ]
  },
  {
   "cell_type": "code",
   "execution_count": null,
   "id": "2802d37e",
   "metadata": {},
   "outputs": [],
   "source": [
    "y_pred = classifier.predict(X_test)"
   ]
  },
  {
   "cell_type": "markdown",
   "id": "52526d95",
   "metadata": {},
   "source": [
    "## Evaluate the model's performance"
   ]
  },
  {
   "cell_type": "code",
   "execution_count": null,
   "id": "e294a538",
   "metadata": {},
   "outputs": [],
   "source": [
    "\n",
    "accuracy = accuracy_score(y_test, y_pred)\n",
    "print(\"Accuracy:\", accuracy)"
   ]
  },
  {
   "cell_type": "markdown",
   "id": "cc2c4c22",
   "metadata": {},
   "source": [
    "## Function to get the chatbot response"
   ]
  },
  {
   "cell_type": "code",
   "execution_count": null,
   "id": "82b08bf3",
   "metadata": {},
   "outputs": [],
   "source": [
    "\n",
    "def get_chatbot_response(question):\n",
    "    question_vectorized = vectorizer.transform([question])\n",
    "    answer = classifier.predict(question_vectorized)[0]\n",
    "    return answer"
   ]
  },
  {
   "cell_type": "markdown",
   "id": "565bfef2",
   "metadata": {},
   "source": [
    "## Chat loop"
   ]
  },
  {
   "cell_type": "code",
   "execution_count": null,
   "id": "100df660",
   "metadata": {},
   "outputs": [],
   "source": [
    "\n",
    "while True:\n",
    "    user_input = input(\"User: \")\n",
    "    if user_input.lower() == 'quit':\n",
    "        break\n",
    "    response = get_chatbot_response(user_input)\n",
    "    print(\"Chatbot:\", response)"
   ]
  },
  {
   "cell_type": "markdown",
   "id": "30ee7650",
   "metadata": {},
   "source": [
    "## Creating other mode DecisionTreeClassifier"
   ]
  },
  {
   "cell_type": "code",
   "execution_count": null,
   "id": "94385238",
   "metadata": {},
   "outputs": [],
   "source": [
    "def cleaner(x):\n",
    "    return [a for a in (''.join([a for a in x if a not in string.punctuation])).lower().split()]"
   ]
  },
  {
   "cell_type": "markdown",
   "id": "159c1265",
   "metadata": {},
   "source": [
    "## ML model pipline"
   ]
  },
  {
   "cell_type": "code",
   "execution_count": null,
   "id": "4f332a35",
   "metadata": {},
   "outputs": [],
   "source": [
    "pip = Pipeline([\n",
    "    ('Bo', CountVectorizer(analyzer=cleaner)),\n",
    "    ('tf', TfidfTransformer()),\n",
    "    ('class', DecisionTreeClassifier())\n",
    "])"
   ]
  },
  {
   "cell_type": "code",
   "execution_count": null,
   "id": "b362f0a1",
   "metadata": {},
   "outputs": [],
   "source": [
    "pip.fit(df2['Question'],df2[\"Answer\"])"
   ]
  },
  {
   "cell_type": "code",
   "execution_count": null,
   "id": "c12d6315",
   "metadata": {},
   "outputs": [],
   "source": [
    "# Function to get the chatbot response\n",
    "def get_chatbot_response(question):\n",
    "    question_vectorized = [question]\n",
    "    answer = pip.predict(question_vectorized)[0]\n",
    "    return answer"
   ]
  },
  {
   "cell_type": "code",
   "execution_count": null,
   "id": "b81319e2",
   "metadata": {},
   "outputs": [],
   "source": [
    "# Chat loop\n",
    "while True:\n",
    "    user_input = input(\"User: \")\n",
    "    if user_input.lower() == 'quit':\n",
    "        break\n",
    "    response = get_chatbot_response(user_input)\n",
    "    print(\"Chatbot:\", response)"
   ]
  },
  {
   "cell_type": "markdown",
   "id": "fb980d13",
   "metadata": {},
   "source": [
    "## Saving a ML model"
   ]
  },
  {
   "cell_type": "code",
   "execution_count": null,
   "id": "92ef023f",
   "metadata": {},
   "outputs": [],
   "source": [
    "joblib.dump(pip, 'New_chatbot_model.pkl')"
   ]
  },
  {
   "cell_type": "markdown",
   "id": "81114642",
   "metadata": {},
   "source": [
    "## loading a saved Model"
   ]
  },
  {
   "cell_type": "code",
   "execution_count": null,
   "id": "55e45e64",
   "metadata": {},
   "outputs": [],
   "source": [
    "model = joblib.load('New_chatbot_model.pkl')"
   ]
  },
  {
   "cell_type": "code",
   "execution_count": null,
   "id": "af855bd7",
   "metadata": {},
   "outputs": [],
   "source": [
    "# Function to get the chatbot response\n",
    "def get_chatbot_response(question):\n",
    "    return model.predict([question])[0]"
   ]
  },
  {
   "cell_type": "code",
   "execution_count": null,
   "id": "9cb63bcd",
   "metadata": {},
   "outputs": [],
   "source": [
    "# Chat loop\n",
    "while True:\n",
    "    user_input = input(\"User: \")\n",
    "    if user_input.lower() == 'quit':\n",
    "        break\n",
    "    response = get_chatbot_response(user_input)\n",
    "    print(\"Chatbot:\", response)"
   ]
  }
 ],
 "metadata": {
  "kernelspec": {
   "display_name": "Python 3 (ipykernel)",
   "language": "python",
   "name": "python3"
  },
  "language_info": {
   "codemirror_mode": {
    "name": "ipython",
    "version": 3
   },
   "file_extension": ".py",
   "mimetype": "text/x-python",
   "name": "python",
   "nbconvert_exporter": "python",
   "pygments_lexer": "ipython3",
   "version": "3.11.3"
  }
 },
 "nbformat": 4,
 "nbformat_minor": 5
}
