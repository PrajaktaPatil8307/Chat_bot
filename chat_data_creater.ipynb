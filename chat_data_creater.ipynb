{
 "cells": [
  {
   "cell_type": "code",
   "execution_count": 1,
   "id": "a13164bf",
   "metadata": {},
   "outputs": [
    {
     "name": "stdout",
     "output_type": "stream",
     "text": [
      "Question: Hi\n",
      "Answer: Hi\n",
      "Do you want to continue the chat? (y/n): y\n",
      "Question: Hi\n",
      "Answer: Bola\n",
      "Do you want to continue the chat? (y/n): n\n",
      "     person message\n",
      "0  Question      Hi\n",
      "1    Answer      Hi\n",
      "2  Question      Hi\n",
      "3    Answer    Bola\n"
     ]
    }
   ],
   "source": [
    "import pandas as pd\n",
    "\n",
    "# Create an empty list to store the chat messages\n",
    "chat_messages = []\n",
    "\n",
    "# Define the two people in the chat\n",
    "person1 = \"Question\"\n",
    "person2 = \"Answer\"\n",
    "\n",
    "# Define a function to prompt for user input and add it to the chat_messages list\n",
    "def add_chat_message(person):\n",
    "    message = input(f\"{person}: \")\n",
    "    chat_messages.append({\n",
    "        \"person\": person,\n",
    "        \"message\": message\n",
    "    })\n",
    "\n",
    "# Prompt for chat messages from both people\n",
    "while True:\n",
    "    add_chat_message(person1)\n",
    "    add_chat_message(person2)\n",
    "\n",
    "    # Ask the user if they want to continue the chat\n",
    "    continue_chat = input(\"Do you want to continue the chat? (y/n): \")\n",
    "\n",
    "    # If the user doesn't want to continue, break out of the loop\n",
    "    if continue_chat.lower() == \"n\":\n",
    "        break\n",
    "\n",
    "# Create a pandas DataFrame from the chat_messages list\n",
    "df = pd.DataFrame(chat_messages)\n",
    "\n",
    "# Print the DataFrame\n",
    "print(df)\n"
   ]
  },
  {
   "cell_type": "code",
   "execution_count": null,
   "id": "abe2d95e",
   "metadata": {},
   "outputs": [],
   "source": [
    "import pandas as pd\n",
    "\n",
    "# Create an empty DataFrame to store the chat messages\n",
    "df = pd.DataFrame(columns=['Question', 'Answer'])\n",
    "\n",
    "# Prompt for chat messages until 'q' is pressed\n",
    "while True:\n",
    "    person = input(\"Enter the person's name (q to quit): \")\n",
    "    if person.lower() == 'q':\n",
    "        break\n",
    "    message = input(\"Enter the chat message: \")\n",
    "    if person.lower() == 'question':\n",
    "        df = df.append({'Question': message, 'Answer': ''}, ignore_index=True)\n",
    "    elif person.lower() == 'answer':\n",
    "        df.at[df.index[-1], 'Answer'] = message\n",
    "\n",
    "# Print the DataFrame\n",
    "print(df)\n"
   ]
  },
  {
   "cell_type": "code",
   "execution_count": 2,
   "id": "e2a3da27",
   "metadata": {},
   "outputs": [
    {
     "name": "stdout",
     "output_type": "stream",
     "text": [
      "Enter a question (or 'q' to quit): hi\n",
      "Enter the answer: hi\n",
      "Enter a question (or 'q' to quit): hi\n",
      "Enter the answer: bol\n",
      "Enter a question (or 'q' to quit): q\n",
      "  Question Answer\n",
      "0       hi     hi\n",
      "1       hi    bol\n"
     ]
    }
   ],
   "source": [
    "import pandas as pd\n",
    "\n",
    "# Create an empty list to store the data\n",
    "data = []\n",
    "\n",
    "while True:\n",
    "    question = input(\"Enter a question (or 'q' to quit): \")\n",
    "    \n",
    "    if question.lower() == 'q':\n",
    "        break\n",
    "    \n",
    "    answer = input(\"Enter the answer: \")\n",
    "    \n",
    "    # Append the question and answer as a tuple to the data list\n",
    "    data.append((question, answer))\n",
    "\n",
    "# Create the DataFrame\n",
    "df = pd.DataFrame(data, columns=['Question', 'Answer'])\n",
    "\n",
    "# Display the DataFrame\n",
    "print(df)\n"
   ]
  },
  {
   "cell_type": "code",
   "execution_count": 10,
   "id": "9639cdaf",
   "metadata": {},
   "outputs": [],
   "source": [
    "import pandas as pd\n",
    "\n",
    "# Define the column names\n",
    "column_names = ['P  Raju 2', 'Rishikesh Ombase']\n",
    "\n",
    "# Read the data into a pandas DataFrame\n",
    "data = pd.read_csv('_chat.txt', sep='\\t', header=None, names=column_names,on_bad_lines='skip')\n",
    "\n"
   ]
  },
  {
   "cell_type": "code",
   "execution_count": 11,
   "id": "3d8e5104",
   "metadata": {},
   "outputs": [
    {
     "data": {
      "text/html": [
       "<div>\n",
       "<style scoped>\n",
       "    .dataframe tbody tr th:only-of-type {\n",
       "        vertical-align: middle;\n",
       "    }\n",
       "\n",
       "    .dataframe tbody tr th {\n",
       "        vertical-align: top;\n",
       "    }\n",
       "\n",
       "    .dataframe thead th {\n",
       "        text-align: right;\n",
       "    }\n",
       "</style>\n",
       "<table border=\"1\" class=\"dataframe\">\n",
       "  <thead>\n",
       "    <tr style=\"text-align: right;\">\n",
       "      <th></th>\n",
       "      <th>P  Raju 2</th>\n",
       "      <th>Rishikesh Ombase</th>\n",
       "    </tr>\n",
       "  </thead>\n",
       "  <tbody>\n",
       "    <tr>\n",
       "      <th>0</th>\n",
       "      <td>[23/12/22, 9:34:24 PM] P  Raju 2: ‎Messages an...</td>\n",
       "      <td>NaN</td>\n",
       "    </tr>\n",
       "    <tr>\n",
       "      <th>1</th>\n",
       "      <td>[23/12/22, 9:34:24 PM] P  Raju 2: Hi</td>\n",
       "      <td>NaN</td>\n",
       "    </tr>\n",
       "    <tr>\n",
       "      <th>2</th>\n",
       "      <td>[23/12/22, 9:42:00 PM] Rishikesh Ombase: Hi</td>\n",
       "      <td>NaN</td>\n",
       "    </tr>\n",
       "    <tr>\n",
       "      <th>3</th>\n",
       "      <td>[23/12/22, 9:42:08 PM] Rishikesh Ombase: Bola</td>\n",
       "      <td>NaN</td>\n",
       "    </tr>\n",
       "    <tr>\n",
       "      <th>4</th>\n",
       "      <td>[23/12/22, 9:58:30 PM] P  Raju 2: Hi</td>\n",
       "      <td>NaN</td>\n",
       "    </tr>\n",
       "  </tbody>\n",
       "</table>\n",
       "</div>"
      ],
      "text/plain": [
       "                                           P  Raju 2 Rishikesh Ombase\n",
       "0  [23/12/22, 9:34:24 PM] P  Raju 2: ‎Messages an...              NaN\n",
       "1               [23/12/22, 9:34:24 PM] P  Raju 2: Hi              NaN\n",
       "2        [23/12/22, 9:42:00 PM] Rishikesh Ombase: Hi              NaN\n",
       "3      [23/12/22, 9:42:08 PM] Rishikesh Ombase: Bola              NaN\n",
       "4               [23/12/22, 9:58:30 PM] P  Raju 2: Hi              NaN"
      ]
     },
     "execution_count": 11,
     "metadata": {},
     "output_type": "execute_result"
    }
   ],
   "source": [
    "data.head()"
   ]
  },
  {
   "cell_type": "code",
   "execution_count": null,
   "id": "19b9d41d",
   "metadata": {},
   "outputs": [],
   "source": []
  }
 ],
 "metadata": {
  "kernelspec": {
   "display_name": "Python 3 (ipykernel)",
   "language": "python",
   "name": "python3"
  },
  "language_info": {
   "codemirror_mode": {
    "name": "ipython",
    "version": 3
   },
   "file_extension": ".py",
   "mimetype": "text/x-python",
   "name": "python",
   "nbconvert_exporter": "python",
   "pygments_lexer": "ipython3",
   "version": "3.11.3"
  }
 },
 "nbformat": 4,
 "nbformat_minor": 5
}
